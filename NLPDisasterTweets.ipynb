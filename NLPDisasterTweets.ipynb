{
  "nbformat": 4,
  "nbformat_minor": 0,
  "metadata": {
    "colab": {
      "name": "NLPDisasterTweets.ipynb",
      "provenance": [],
      "mount_file_id": "1N2v80UNsS7TJcBkzuCki3OeYX-xCC92e",
      "authorship_tag": "ABX9TyMrbKKWi9vc76wlB4najxfL",
      "include_colab_link": true
    },
    "kernelspec": {
      "name": "python3",
      "display_name": "Python 3"
    },
    "accelerator": "GPU"
  },
  "cells": [
    {
      "cell_type": "markdown",
      "metadata": {
        "id": "view-in-github",
        "colab_type": "text"
      },
      "source": [
        "<a href=\"https://colab.research.google.com/github/Sourodip-Kundu/NLP_Disaster_Tweet/blob/main/NLPDisasterTweets.ipynb\" target=\"_parent\"><img src=\"https://colab.research.google.com/assets/colab-badge.svg\" alt=\"Open In Colab\"/></a>"
      ]
    },
    {
      "cell_type": "code",
      "metadata": {
        "id": "1YTokyXIVChI"
      },
      "source": [
        ""
      ],
      "execution_count": null,
      "outputs": []
    },
    {
      "cell_type": "code",
      "metadata": {
        "id": "-qtXemxiVgeG"
      },
      "source": [
        "#importing basic libraries\n",
        "import numpy as np\n",
        "import pandas as pd\n",
        "import matplotlib.pyplot as plt\n",
        "import seaborn as sns\n",
        "import spacy\n",
        "import string\n",
        "import re"
      ],
      "execution_count": null,
      "outputs": []
    },
    {
      "cell_type": "code",
      "metadata": {
        "id": "xbYALt9BeaGy"
      },
      "source": [
        "#importing nlp and related libraries\n",
        "import nltk\n",
        "from nltk.corpus import stopwords\n",
        "from nltk.stem import WordNetLemmatizer\n",
        "from nltk import pos_tag\n",
        "from nltk import wordnet"
      ],
      "execution_count": null,
      "outputs": []
    },
    {
      "cell_type": "code",
      "metadata": {
        "id": "9_Fgi5bBV9wk"
      },
      "source": [
        "#importing machine learning, deep learning & related libraries\n",
        "from sklearn.feature_extraction.text import CountVectorizer, TfidfVectorizer\n",
        "from sklearn import preprocessing\n",
        "from sklearn.ensemble import RandomForestClassifier, VotingClassifier, GradientBoostingClassifier, AdaBoostClassifier\n",
        "from sklearn.svm  import SVC\n",
        "from sklearn.metrics import accuracy_score\n",
        "from sklearn.metrics import confusion_matrix\n",
        "from sklearn.model_selection import train_test_split\n",
        "from sklearn.metrics import plot_confusion_matrix\n",
        "from sklearn.decomposition import PCA\n",
        "from sklearn.neural_network import MLPRegressor\n",
        "from tensorflow.python.keras import models, layers, optimizers\n",
        "import tensorflow\n",
        "from tensorflow.keras.preprocessing.text import Tokenizer, text_to_word_sequence\n",
        "from tensorflow.keras.preprocessing.sequence import pad_sequences\n",
        "from sklearn.metrics import f1_score, roc_auc_score, accuracy_score\n",
        "from tensorflow.keras.layers import Embedding, Flatten, Dense\n",
        "from tensorflow.keras import Sequential\n",
        "from imblearn.over_sampling import SMOTE"
      ],
      "execution_count": null,
      "outputs": []
    },
    {
      "cell_type": "code",
      "metadata": {
        "id": "EZT9V-75WtQq"
      },
      "source": [
        "#loading the dataset\n",
        "train_data = pd.read_csv('drive/My Drive/NLP_With_Disaster_Tweets/nlp-getting-started/train.csv')\n",
        "test_data  = pd.read_csv('drive/My Drive/NLP_With_Disaster_Tweets/nlp-getting-started/test.csv')"
      ],
      "execution_count": null,
      "outputs": []
    },
    {
      "cell_type": "code",
      "metadata": {
        "id": "RuFWQh_VXSAy",
        "colab": {
          "base_uri": "https://localhost:8080/",
          "height": 195
        },
        "outputId": "9d331192-45af-441c-d5f3-d7c2ac52e2ff"
      },
      "source": [
        "train_data.head()"
      ],
      "execution_count": null,
      "outputs": [
        {
          "output_type": "execute_result",
          "data": {
            "text/html": [
              "<div>\n",
              "<style scoped>\n",
              "    .dataframe tbody tr th:only-of-type {\n",
              "        vertical-align: middle;\n",
              "    }\n",
              "\n",
              "    .dataframe tbody tr th {\n",
              "        vertical-align: top;\n",
              "    }\n",
              "\n",
              "    .dataframe thead th {\n",
              "        text-align: right;\n",
              "    }\n",
              "</style>\n",
              "<table border=\"1\" class=\"dataframe\">\n",
              "  <thead>\n",
              "    <tr style=\"text-align: right;\">\n",
              "      <th></th>\n",
              "      <th>id</th>\n",
              "      <th>keyword</th>\n",
              "      <th>location</th>\n",
              "      <th>text</th>\n",
              "      <th>target</th>\n",
              "    </tr>\n",
              "  </thead>\n",
              "  <tbody>\n",
              "    <tr>\n",
              "      <th>0</th>\n",
              "      <td>1</td>\n",
              "      <td>NaN</td>\n",
              "      <td>NaN</td>\n",
              "      <td>Our Deeds are the Reason of this #earthquake M...</td>\n",
              "      <td>1</td>\n",
              "    </tr>\n",
              "    <tr>\n",
              "      <th>1</th>\n",
              "      <td>4</td>\n",
              "      <td>NaN</td>\n",
              "      <td>NaN</td>\n",
              "      <td>Forest fire near La Ronge Sask. Canada</td>\n",
              "      <td>1</td>\n",
              "    </tr>\n",
              "    <tr>\n",
              "      <th>2</th>\n",
              "      <td>5</td>\n",
              "      <td>NaN</td>\n",
              "      <td>NaN</td>\n",
              "      <td>All residents asked to 'shelter in place' are ...</td>\n",
              "      <td>1</td>\n",
              "    </tr>\n",
              "    <tr>\n",
              "      <th>3</th>\n",
              "      <td>6</td>\n",
              "      <td>NaN</td>\n",
              "      <td>NaN</td>\n",
              "      <td>13,000 people receive #wildfires evacuation or...</td>\n",
              "      <td>1</td>\n",
              "    </tr>\n",
              "    <tr>\n",
              "      <th>4</th>\n",
              "      <td>7</td>\n",
              "      <td>NaN</td>\n",
              "      <td>NaN</td>\n",
              "      <td>Just got sent this photo from Ruby #Alaska as ...</td>\n",
              "      <td>1</td>\n",
              "    </tr>\n",
              "  </tbody>\n",
              "</table>\n",
              "</div>"
            ],
            "text/plain": [
              "   id keyword  ...                                               text target\n",
              "0   1     NaN  ...  Our Deeds are the Reason of this #earthquake M...      1\n",
              "1   4     NaN  ...             Forest fire near La Ronge Sask. Canada      1\n",
              "2   5     NaN  ...  All residents asked to 'shelter in place' are ...      1\n",
              "3   6     NaN  ...  13,000 people receive #wildfires evacuation or...      1\n",
              "4   7     NaN  ...  Just got sent this photo from Ruby #Alaska as ...      1\n",
              "\n",
              "[5 rows x 5 columns]"
            ]
          },
          "metadata": {
            "tags": []
          },
          "execution_count": 106
        }
      ]
    },
    {
      "cell_type": "code",
      "metadata": {
        "id": "WYk-7_xpXVMs",
        "colab": {
          "base_uri": "https://localhost:8080/",
          "height": 195
        },
        "outputId": "bcbbd304-5c15-4fc9-95ab-8646a7839d9a"
      },
      "source": [
        "test_data.head()"
      ],
      "execution_count": null,
      "outputs": [
        {
          "output_type": "execute_result",
          "data": {
            "text/html": [
              "<div>\n",
              "<style scoped>\n",
              "    .dataframe tbody tr th:only-of-type {\n",
              "        vertical-align: middle;\n",
              "    }\n",
              "\n",
              "    .dataframe tbody tr th {\n",
              "        vertical-align: top;\n",
              "    }\n",
              "\n",
              "    .dataframe thead th {\n",
              "        text-align: right;\n",
              "    }\n",
              "</style>\n",
              "<table border=\"1\" class=\"dataframe\">\n",
              "  <thead>\n",
              "    <tr style=\"text-align: right;\">\n",
              "      <th></th>\n",
              "      <th>id</th>\n",
              "      <th>keyword</th>\n",
              "      <th>location</th>\n",
              "      <th>text</th>\n",
              "    </tr>\n",
              "  </thead>\n",
              "  <tbody>\n",
              "    <tr>\n",
              "      <th>0</th>\n",
              "      <td>0</td>\n",
              "      <td>NaN</td>\n",
              "      <td>NaN</td>\n",
              "      <td>Just happened a terrible car crash</td>\n",
              "    </tr>\n",
              "    <tr>\n",
              "      <th>1</th>\n",
              "      <td>2</td>\n",
              "      <td>NaN</td>\n",
              "      <td>NaN</td>\n",
              "      <td>Heard about #earthquake is different cities, s...</td>\n",
              "    </tr>\n",
              "    <tr>\n",
              "      <th>2</th>\n",
              "      <td>3</td>\n",
              "      <td>NaN</td>\n",
              "      <td>NaN</td>\n",
              "      <td>there is a forest fire at spot pond, geese are...</td>\n",
              "    </tr>\n",
              "    <tr>\n",
              "      <th>3</th>\n",
              "      <td>9</td>\n",
              "      <td>NaN</td>\n",
              "      <td>NaN</td>\n",
              "      <td>Apocalypse lighting. #Spokane #wildfires</td>\n",
              "    </tr>\n",
              "    <tr>\n",
              "      <th>4</th>\n",
              "      <td>11</td>\n",
              "      <td>NaN</td>\n",
              "      <td>NaN</td>\n",
              "      <td>Typhoon Soudelor kills 28 in China and Taiwan</td>\n",
              "    </tr>\n",
              "  </tbody>\n",
              "</table>\n",
              "</div>"
            ],
            "text/plain": [
              "   id keyword location                                               text\n",
              "0   0     NaN      NaN                 Just happened a terrible car crash\n",
              "1   2     NaN      NaN  Heard about #earthquake is different cities, s...\n",
              "2   3     NaN      NaN  there is a forest fire at spot pond, geese are...\n",
              "3   9     NaN      NaN           Apocalypse lighting. #Spokane #wildfires\n",
              "4  11     NaN      NaN      Typhoon Soudelor kills 28 in China and Taiwan"
            ]
          },
          "metadata": {
            "tags": []
          },
          "execution_count": 107
        }
      ]
    },
    {
      "cell_type": "code",
      "metadata": {
        "id": "fDlzp_62XX52",
        "colab": {
          "base_uri": "https://localhost:8080/",
          "height": 34
        },
        "outputId": "bda7fe4a-0e6f-4b5b-9548-6f6aa3715b8d"
      },
      "source": [
        "train_data.shape"
      ],
      "execution_count": null,
      "outputs": [
        {
          "output_type": "execute_result",
          "data": {
            "text/plain": [
              "(7613, 5)"
            ]
          },
          "metadata": {
            "tags": []
          },
          "execution_count": 108
        }
      ]
    },
    {
      "cell_type": "code",
      "metadata": {
        "id": "SAZdszEoggK9",
        "colab": {
          "base_uri": "https://localhost:8080/",
          "height": 34
        },
        "outputId": "1d52d09e-17c5-4f6e-cb4d-abff198d0963"
      },
      "source": [
        "test_data.shape"
      ],
      "execution_count": null,
      "outputs": [
        {
          "output_type": "execute_result",
          "data": {
            "text/plain": [
              "(3263, 4)"
            ]
          },
          "metadata": {
            "tags": []
          },
          "execution_count": 109
        }
      ]
    },
    {
      "cell_type": "code",
      "metadata": {
        "id": "96xWy-6Lgh4m",
        "colab": {
          "base_uri": "https://localhost:8080/",
          "height": 370
        },
        "outputId": "074dbbdb-c7fb-40ad-c7dd-631ae06dffec"
      },
      "source": [
        "print(train_data.info())\n",
        "print(test_data.info())"
      ],
      "execution_count": null,
      "outputs": [
        {
          "output_type": "stream",
          "text": [
            "<class 'pandas.core.frame.DataFrame'>\n",
            "RangeIndex: 7613 entries, 0 to 7612\n",
            "Data columns (total 5 columns):\n",
            "id          7613 non-null int64\n",
            "keyword     7552 non-null object\n",
            "location    5080 non-null object\n",
            "text        7613 non-null object\n",
            "target      7613 non-null int64\n",
            "dtypes: int64(2), object(3)\n",
            "memory usage: 297.5+ KB\n",
            "None\n",
            "<class 'pandas.core.frame.DataFrame'>\n",
            "RangeIndex: 3263 entries, 0 to 3262\n",
            "Data columns (total 4 columns):\n",
            "id          3263 non-null int64\n",
            "keyword     3237 non-null object\n",
            "location    2158 non-null object\n",
            "text        3263 non-null object\n",
            "dtypes: int64(1), object(3)\n",
            "memory usage: 102.1+ KB\n",
            "None\n"
          ],
          "name": "stdout"
        }
      ]
    },
    {
      "cell_type": "code",
      "metadata": {
        "id": "8K7BZ1rwhTCy",
        "colab": {
          "base_uri": "https://localhost:8080/",
          "height": 296
        },
        "outputId": "e6406e7c-03be-4bbc-de3d-627237007549"
      },
      "source": [
        "sns.countplot(x = 'target', data = train_data)"
      ],
      "execution_count": null,
      "outputs": [
        {
          "output_type": "execute_result",
          "data": {
            "text/plain": [
              "<matplotlib.axes._subplots.AxesSubplot at 0x7fdda385dac8>"
            ]
          },
          "metadata": {
            "tags": []
          },
          "execution_count": 111
        },
        {
          "output_type": "display_data",
          "data": {
            "image/png": "[encoded data removed]",
            "text/plain": [
              "<Figure size 432x288 with 1 Axes>"
            ]
          },
          "metadata": {
            "tags": []
          }
        }
      ]
    },
    {
      "cell_type": "markdown",
      "metadata": {
        "id": "T_yYb2arne8p"
      },
      "source": [
        "# Cleaning the tweets"
      ]
    },
    {
      "cell_type": "code",
      "metadata": {
        "id": "snP5ZkPGnhMl"
      },
      "source": [
        "#Function for removing URL\n",
        "def remove_URL(text):\n",
        "    url = re.compile(r'https?://\\S+|www\\.\\S+')\n",
        "    return url.sub(r'',text)"
      ],
      "execution_count": null,
      "outputs": []
    },
    {
      "cell_type": "code",
      "metadata": {
        "id": "0qmNVNUTnvdg"
      },
      "source": [
        "#Function for removing HTML codes\n",
        "def remove_html(text):\n",
        "    html=re.compile(r'<.*?>')\n",
        "    return html.sub(r'',text)"
      ],
      "execution_count": null,
      "outputs": []
    },
    {
      "cell_type": "code",
      "metadata": {
        "id": "C5tiMpxdh9sn"
      },
      "source": [
        "def remove_emoji(text):\n",
        "    try:\n",
        "        # Wide UCS-4 build\n",
        "        emoji_pattern = re.compile(u'['\n",
        "                          u'\\U0001F300-\\U0001F64F'\n",
        "                          u'\\U0001F680-\\U0001F6FF'\n",
        "                          u'\\u2600-\\u2B55'\n",
        "                          u'\\u23cf'\n",
        "                          u'\\u23e9'\n",
        "                          u'\\u231a'\n",
        "                          u'\\u3030'\n",
        "                          u'\\ufe0f'\n",
        "                          u\"\\U0001F600-\\U0001F64F\"  # emoticons\n",
        "                           u\"\\U0001F300-\\U0001F5FF\"  # symbols & pictographs\n",
        "                            u'\\U00010000-\\U0010ffff'\n",
        "                           u'\\U0001F1E0-\\U0001F1FF'  # flags (iOS)\n",
        "                           u'\\U00002702-\\U000027B0]+',     \n",
        "                          re.UNICODE)\n",
        "    except emoji_pattern.error:\n",
        "        # Narrow UCS-2 build\n",
        "        myre =   re.compile(u'('\n",
        "                                  u'\\ud83c[\\udf00-\\udfff]|'\n",
        "                                  u'\\ud83d[\\udc00-\\ude4f]|'\n",
        "                                  u'\\uD83D[\\uDE80-\\uDEFF]|'\n",
        "                                  u\"(\\ud83d[\\ude00-\\ude4f])|\"  # emoticon\n",
        "                                  u'[\\u2600-\\u2B55]|'\n",
        "                                  u'[\\u23cf]|'\n",
        "                                  u'[\\u1f918]|'\n",
        "                                    u'[\\u23e9]|'\n",
        "                                  u'[\\u231a]|'\n",
        "                                  u'[\\u3030]|'\n",
        "                                  u'[\\ufe0f]|'\n",
        "                                  u'\\uD83D[\\uDE00-\\uDE4F]|'\n",
        "                                  u'\\uD83C[\\uDDE0-\\uDDFF]|'\n",
        "                                u'[\\u2702-\\u27B0]|'\n",
        "                                  u'\\uD83D[\\uDC00-\\uDDFF])+',\n",
        "                                  re.UNICODE)\n",
        "    return emoji_pattern.sub(r'', text)"
      ],
      "execution_count": null,
      "outputs": []
    },
    {
      "cell_type": "code",
      "metadata": {
        "id": "lVY_lnB0ogld"
      },
      "source": [
        "#Cleaning train_data\n",
        "train_data['text'] = train_data['text'].apply(lambda x: remove_URL(x))\n",
        "train_data['text'] = train_data['text'].apply(lambda x: remove_html(x))\n",
        "train_data['text'] = train_data['text'].apply(lambda x: remove_emoji(x))"
      ],
      "execution_count": null,
      "outputs": []
    },
    {
      "cell_type": "code",
      "metadata": {
        "id": "R7f1SVHZqQS7"
      },
      "source": [
        "#Cleaning test_data\n",
        "test_data['text'] = test_data['text'].apply(lambda x: remove_URL(x))\n",
        "test_data['text'] = test_data['text'].apply(lambda x: remove_html(x))\n",
        "test_data['text'] = test_data['text'].apply(lambda x: remove_emoji(x))"
      ],
      "execution_count": null,
      "outputs": []
    },
    {
      "cell_type": "code",
      "metadata": {
        "id": "n2uiK_oCqaz7",
        "colab": {
          "base_uri": "https://localhost:8080/",
          "height": 195
        },
        "outputId": "1d3dbe09-5950-4080-b7be-a32b47a0ef8c"
      },
      "source": [
        "train_data.head()"
      ],
      "execution_count": null,
      "outputs": [
        {
          "output_type": "execute_result",
          "data": {
            "text/html": [
              "<div>\n",
              "<style scoped>\n",
              "    .dataframe tbody tr th:only-of-type {\n",
              "        vertical-align: middle;\n",
              "    }\n",
              "\n",
              "    .dataframe tbody tr th {\n",
              "        vertical-align: top;\n",
              "    }\n",
              "\n",
              "    .dataframe thead th {\n",
              "        text-align: right;\n",
              "    }\n",
              "</style>\n",
              "<table border=\"1\" class=\"dataframe\">\n",
              "  <thead>\n",
              "    <tr style=\"text-align: right;\">\n",
              "      <th></th>\n",
              "      <th>id</th>\n",
              "      <th>keyword</th>\n",
              "      <th>location</th>\n",
              "      <th>text</th>\n",
              "      <th>target</th>\n",
              "    </tr>\n",
              "  </thead>\n",
              "  <tbody>\n",
              "    <tr>\n",
              "      <th>0</th>\n",
              "      <td>1</td>\n",
              "      <td>NaN</td>\n",
              "      <td>NaN</td>\n",
              "      <td>Our Deeds are the Reason of this #earthquake M...</td>\n",
              "      <td>1</td>\n",
              "    </tr>\n",
              "    <tr>\n",
              "      <th>1</th>\n",
              "      <td>4</td>\n",
              "      <td>NaN</td>\n",
              "      <td>NaN</td>\n",
              "      <td>Forest fire near La Ronge Sask. Canada</td>\n",
              "      <td>1</td>\n",
              "    </tr>\n",
              "    <tr>\n",
              "      <th>2</th>\n",
              "      <td>5</td>\n",
              "      <td>NaN</td>\n",
              "      <td>NaN</td>\n",
              "      <td>All residents asked to 'shelter in place' are ...</td>\n",
              "      <td>1</td>\n",
              "    </tr>\n",
              "    <tr>\n",
              "      <th>3</th>\n",
              "      <td>6</td>\n",
              "      <td>NaN</td>\n",
              "      <td>NaN</td>\n",
              "      <td>13,000 people receive #wildfires evacuation or...</td>\n",
              "      <td>1</td>\n",
              "    </tr>\n",
              "    <tr>\n",
              "      <th>4</th>\n",
              "      <td>7</td>\n",
              "      <td>NaN</td>\n",
              "      <td>NaN</td>\n",
              "      <td>Just got sent this photo from Ruby #Alaska as ...</td>\n",
              "      <td>1</td>\n",
              "    </tr>\n",
              "  </tbody>\n",
              "</table>\n",
              "</div>"
            ],
            "text/plain": [
              "   id keyword  ...                                               text target\n",
              "0   1     NaN  ...  Our Deeds are the Reason of this #earthquake M...      1\n",
              "1   4     NaN  ...             Forest fire near La Ronge Sask. Canada      1\n",
              "2   5     NaN  ...  All residents asked to 'shelter in place' are ...      1\n",
              "3   6     NaN  ...  13,000 people receive #wildfires evacuation or...      1\n",
              "4   7     NaN  ...  Just got sent this photo from Ruby #Alaska as ...      1\n",
              "\n",
              "[5 rows x 5 columns]"
            ]
          },
          "metadata": {
            "tags": []
          },
          "execution_count": 117
        }
      ]
    },
    {
      "cell_type": "code",
      "metadata": {
        "id": "pB9DX5npqczZ",
        "colab": {
          "base_uri": "https://localhost:8080/",
          "height": 195
        },
        "outputId": "21c7dcc2-099d-4939-ad2e-117fcd7b22a4"
      },
      "source": [
        "test_data.head()"
      ],
      "execution_count": null,
      "outputs": [
        {
          "output_type": "execute_result",
          "data": {
            "text/html": [
              "<div>\n",
              "<style scoped>\n",
              "    .dataframe tbody tr th:only-of-type {\n",
              "        vertical-align: middle;\n",
              "    }\n",
              "\n",
              "    .dataframe tbody tr th {\n",
              "        vertical-align: top;\n",
              "    }\n",
              "\n",
              "    .dataframe thead th {\n",
              "        text-align: right;\n",
              "    }\n",
              "</style>\n",
              "<table border=\"1\" class=\"dataframe\">\n",
              "  <thead>\n",
              "    <tr style=\"text-align: right;\">\n",
              "      <th></th>\n",
              "      <th>id</th>\n",
              "      <th>keyword</th>\n",
              "      <th>location</th>\n",
              "      <th>text</th>\n",
              "    </tr>\n",
              "  </thead>\n",
              "  <tbody>\n",
              "    <tr>\n",
              "      <th>0</th>\n",
              "      <td>0</td>\n",
              "      <td>NaN</td>\n",
              "      <td>NaN</td>\n",
              "      <td>Just happened a terrible car crash</td>\n",
              "    </tr>\n",
              "    <tr>\n",
              "      <th>1</th>\n",
              "      <td>2</td>\n",
              "      <td>NaN</td>\n",
              "      <td>NaN</td>\n",
              "      <td>Heard about #earthquake is different cities, s...</td>\n",
              "    </tr>\n",
              "    <tr>\n",
              "      <th>2</th>\n",
              "      <td>3</td>\n",
              "      <td>NaN</td>\n",
              "      <td>NaN</td>\n",
              "      <td>there is a forest fire at spot pond, geese are...</td>\n",
              "    </tr>\n",
              "    <tr>\n",
              "      <th>3</th>\n",
              "      <td>9</td>\n",
              "      <td>NaN</td>\n",
              "      <td>NaN</td>\n",
              "      <td>Apocalypse lighting. #Spokane #wildfires</td>\n",
              "    </tr>\n",
              "    <tr>\n",
              "      <th>4</th>\n",
              "      <td>11</td>\n",
              "      <td>NaN</td>\n",
              "      <td>NaN</td>\n",
              "      <td>Typhoon Soudelor kills 28 in China and Taiwan</td>\n",
              "    </tr>\n",
              "  </tbody>\n",
              "</table>\n",
              "</div>"
            ],
            "text/plain": [
              "   id keyword location                                               text\n",
              "0   0     NaN      NaN                 Just happened a terrible car crash\n",
              "1   2     NaN      NaN  Heard about #earthquake is different cities, s...\n",
              "2   3     NaN      NaN  there is a forest fire at spot pond, geese are...\n",
              "3   9     NaN      NaN           Apocalypse lighting. #Spokane #wildfires\n",
              "4  11     NaN      NaN      Typhoon Soudelor kills 28 in China and Taiwan"
            ]
          },
          "metadata": {
            "tags": []
          },
          "execution_count": 118
        }
      ]
    },
    {
      "cell_type": "code",
      "metadata": {
        "id": "eGhPJp5D5Y-p"
      },
      "source": [
        "#Cleaning charectars from tweet\n",
        "def clean_tweet(text):\n",
        "    return re.sub(r'[^\\w]', ' ',text)"
      ],
      "execution_count": null,
      "outputs": []
    },
    {
      "cell_type": "code",
      "metadata": {
        "id": "8tRajlgT9iQS"
      },
      "source": [
        "#Cleaning more than one whiteSpace from tweet\n",
        "def remove_whitespace(text):\n",
        "  regex =re.compile(r\"\\s+\")\n",
        "  return regex.sub(\" \", text).strip()"
      ],
      "execution_count": null,
      "outputs": []
    },
    {
      "cell_type": "code",
      "metadata": {
        "id": "cXoPI7S57z_r"
      },
      "source": [
        "train_data['text'] = train_data['text'].apply(lambda x: clean_tweet(x))\n",
        "train_data['text'] = train_data['text'].apply(lambda x: remove_whitespace(x))"
      ],
      "execution_count": null,
      "outputs": []
    },
    {
      "cell_type": "code",
      "metadata": {
        "id": "ktGQMZaL81vN",
        "colab": {
          "base_uri": "https://localhost:8080/",
          "height": 154
        },
        "outputId": "82ab79ad-9678-4e21-e00d-441b2c772fdc"
      },
      "source": [
        "tweets_train =train_data['text'].values\n",
        "tweets_train"
      ],
      "execution_count": null,
      "outputs": [
        {
          "output_type": "execute_result",
          "data": {
            "text/plain": [
              "array(['Our Deeds are the Reason of this earthquake May ALLAH Forgive us all',\n",
              "       'Forest fire near La Ronge Sask Canada',\n",
              "       'All residents asked to shelter in place are being notified by officers No other evacuation or shelter in place orders are expected',\n",
              "       ..., 'M1 94 01 04 UTC 5km S of Volcano Hawaii',\n",
              "       'Police investigating after an e bike collided with a car in Little Portugal E bike rider suffered serious non life threatening injuries',\n",
              "       'The Latest More Homes Razed by Northern California Wildfire ABC News'],\n",
              "      dtype=object)"
            ]
          },
          "metadata": {
            "tags": []
          },
          "execution_count": 122
        }
      ]
    },
    {
      "cell_type": "code",
      "metadata": {
        "id": "bD8Z0WiJvOlR",
        "colab": {
          "base_uri": "https://localhost:8080/",
          "height": 34
        },
        "outputId": "9f9c78a3-b6af-4c7a-9906-d124722b6f4f"
      },
      "source": [
        "tweets_train.shape"
      ],
      "execution_count": null,
      "outputs": [
        {
          "output_type": "execute_result",
          "data": {
            "text/plain": [
              "(7613,)"
            ]
          },
          "metadata": {
            "tags": []
          },
          "execution_count": 123
        }
      ]
    },
    {
      "cell_type": "code",
      "metadata": {
        "id": "RWccnmdXur4h"
      },
      "source": [
        "ech_train_tweet= []\n",
        "for line in tweets_train:\n",
        "    ech_train_tweet.append([wrds for wrds in re.split(' |,|!|\\?', str(line))])"
      ],
      "execution_count": null,
      "outputs": []
    },
    {
      "cell_type": "code",
      "metadata": {
        "id": "k38tbCZF-ZW3"
      },
      "source": [
        "test_data['text'] = test_data['text'].apply(lambda x: clean_tweet(x))\n",
        "test_data['text'] = test_data['text'].apply(lambda x: remove_whitespace(x))"
      ],
      "execution_count": null,
      "outputs": []
    },
    {
      "cell_type": "code",
      "metadata": {
        "id": "ZFrxeRyuvm9C",
        "colab": {
          "base_uri": "https://localhost:8080/",
          "height": 154
        },
        "outputId": "fbc5d8a5-b1d5-4e60-bffd-b7c942f693cf"
      },
      "source": [
        "tweets_test =test_data['text'].values\n",
        "tweets_test"
      ],
      "execution_count": null,
      "outputs": [
        {
          "output_type": "execute_result",
          "data": {
            "text/plain": [
              "array(['Just happened a terrible car crash',\n",
              "       'Heard about earthquake is different cities stay safe everyone',\n",
              "       'there is a forest fire at spot pond geese are fleeing across the street I cannot save them all',\n",
              "       ..., 'Green Line derailment in Chicago',\n",
              "       'MEG issues Hazardous Weather Outlook HWO',\n",
              "       'CityofCalgary has activated its Municipal Emergency Plan yycstorm'],\n",
              "      dtype=object)"
            ]
          },
          "metadata": {
            "tags": []
          },
          "execution_count": 126
        }
      ]
    },
    {
      "cell_type": "code",
      "metadata": {
        "id": "Kx4gE4yNqsPg",
        "colab": {
          "base_uri": "https://localhost:8080/",
          "height": 34
        },
        "outputId": "1dacd22b-b51e-4e9d-a6d3-6751bb12f286"
      },
      "source": [
        "tweets_test.shape"
      ],
      "execution_count": null,
      "outputs": [
        {
          "output_type": "execute_result",
          "data": {
            "text/plain": [
              "(3263,)"
            ]
          },
          "metadata": {
            "tags": []
          },
          "execution_count": 127
        }
      ]
    },
    {
      "cell_type": "code",
      "metadata": {
        "id": "kr_ab6lMqenH"
      },
      "source": [
        "ech_test_tweet= []\n",
        "for line in tweets_test:\n",
        "    ech_test_tweet.append([wrds for wrds in re.split(' |,|!|\\?', str(line))])"
      ],
      "execution_count": null,
      "outputs": []
    },
    {
      "cell_type": "code",
      "metadata": {
        "id": "wvdm3v_pcCOn"
      },
      "source": [
        "lemmatizer = WordNetLemmatizer()"
      ],
      "execution_count": null,
      "outputs": []
    },
    {
      "cell_type": "code",
      "metadata": {
        "id": "YALf5WQWcTrn",
        "colab": {
          "base_uri": "https://localhost:8080/",
          "height": 134
        },
        "outputId": "a7fb6158-2c91-4e96-95b4-59542ec1a08a"
      },
      "source": [
        "from nltk import pos_tag\n",
        "nltk.download('averaged_perceptron_tagger')\n",
        "nltk.download('wordnet')"
      ],
      "execution_count": null,
      "outputs": [
        {
          "output_type": "stream",
          "text": [
            "[nltk_data] Downloading package averaged_perceptron_tagger to\n",
            "[nltk_data]     /root/nltk_data...\n",
            "[nltk_data]   Package averaged_perceptron_tagger is already up-to-\n",
            "[nltk_data]       date!\n",
            "[nltk_data] Downloading package wordnet to /root/nltk_data...\n",
            "[nltk_data]   Package wordnet is already up-to-date!\n"
          ],
          "name": "stdout"
        },
        {
          "output_type": "execute_result",
          "data": {
            "text/plain": [
              "True"
            ]
          },
          "metadata": {
            "tags": []
          },
          "execution_count": 130
        }
      ]
    },
    {
      "cell_type": "code",
      "metadata": {
        "id": "XBXTQLbmcX2x"
      },
      "source": [
        "from nltk.corpus import wordnet\n",
        "def get_pos_tag(word):\n",
        "    tag = pos_tag([word])[0][1]\n",
        "    if tag.startswith('J'):\n",
        "        return wordnet.ADJ\n",
        "    elif tag.startswith('V'):\n",
        "        return wordnet.VERB\n",
        "    elif tag.startswith('N'):\n",
        "        return wordnet.NOUN\n",
        "    elif tag.startswith('R'):\n",
        "        return wordnet.ADV\n",
        "    else:\n",
        "        return wordnet.NOUN"
      ],
      "execution_count": null,
      "outputs": []
    },
    {
      "cell_type": "code",
      "metadata": {
        "id": "thfskYpKcblR",
        "colab": {
          "base_uri": "https://localhost:8080/",
          "height": 50
        },
        "outputId": "dc8254f9-7c31-48a3-e555-2cd7a62d9c12"
      },
      "source": [
        "nltk.download('stopwords')\n",
        "punctuations = list(string.punctuation)\n",
        "stop = stopwords.words('english')\n",
        "stop += punctuations"
      ],
      "execution_count": null,
      "outputs": [
        {
          "output_type": "stream",
          "text": [
            "[nltk_data] Downloading package stopwords to /root/nltk_data...\n",
            "[nltk_data]   Package stopwords is already up-to-date!\n"
          ],
          "name": "stdout"
        }
      ]
    },
    {
      "cell_type": "code",
      "metadata": {
        "id": "S46BwpANcmIj"
      },
      "source": [
        "def processed_tweets(words):\n",
        "    output_words = list()\n",
        "    for w in words:\n",
        "        if w.lower() not in stop and len(w) > 0:            \n",
        "            clean_word = lemmatizer.lemmatize(w, pos = get_pos_tag(w))\n",
        "            output_words.append(clean_word.lower())\n",
        "    return output_words"
      ],
      "execution_count": null,
      "outputs": []
    },
    {
      "cell_type": "code",
      "metadata": {
        "id": "QkqUZewNcwf0"
      },
      "source": [
        "text_tweet_train = [(processed_tweets(text)) for text in ech_train_tweet]"
      ],
      "execution_count": null,
      "outputs": []
    },
    {
      "cell_type": "code",
      "metadata": {
        "id": "1_RLzHvjdISn"
      },
      "source": [
        "text_tweet_test = [(processed_tweets(text)) for text in ech_test_tweet]"
      ],
      "execution_count": null,
      "outputs": []
    },
    {
      "cell_type": "code",
      "metadata": {
        "id": "zKTywMtsch0s"
      },
      "source": [
        "processed_text_tweet_train = [\" \".join(text) for text  in text_tweet_train]\n",
        "processed_text_tweet_test  = [\" \".join(text) for text  in text_tweet_test]"
      ],
      "execution_count": null,
      "outputs": []
    },
    {
      "cell_type": "code",
      "metadata": {
        "id": "Ew_Wa9H9eLe-",
        "colab": {
          "base_uri": "https://localhost:8080/",
          "height": 70
        },
        "outputId": "93031446-0328-4fdf-f3a4-bc2e3ed50419"
      },
      "source": [
        "print(processed_text_tweet_train[:5])\n",
        "print(processed_text_tweet_test[:5])"
      ],
      "execution_count": null,
      "outputs": [
        {
          "output_type": "stream",
          "text": [
            "['deeds reason earthquake may allah forgive u', 'forest fire near la ronge sask canada', 'resident ask shelter place notify officer evacuation shelter place order expect', '13 000 people receive wildfire evacuation order california', 'get sent photo ruby alaska smoke wildfire pours school']\n",
            "['happen terrible car crash', 'heard earthquake different city stay safe everyone', 'forest fire spot pond geese flee across street cannot save', 'apocalypse light spokane wildfire', 'typhoon soudelor kill 28 china taiwan']\n"
          ],
          "name": "stdout"
        }
      ]
    },
    {
      "cell_type": "code",
      "metadata": {
        "id": "Xu4Zuu6Ad498"
      },
      "source": [
        "target = [target for target  in train_data['target']]"
      ],
      "execution_count": null,
      "outputs": []
    },
    {
      "cell_type": "code",
      "metadata": {
        "id": "hSVi9MTlfKiD",
        "colab": {
          "base_uri": "https://localhost:8080/",
          "height": 34
        },
        "outputId": "ddca801a-499a-4009-a68e-84048c43cbfd"
      },
      "source": [
        "len(target)"
      ],
      "execution_count": null,
      "outputs": [
        {
          "output_type": "execute_result",
          "data": {
            "text/plain": [
              "7613"
            ]
          },
          "metadata": {
            "tags": []
          },
          "execution_count": 139
        }
      ]
    },
    {
      "cell_type": "markdown",
      "metadata": {
        "id": "gKWhvR7HfcjS"
      },
      "source": [
        "# Applying Deep Learning"
      ]
    },
    {
      "cell_type": "code",
      "metadata": {
        "id": "gSnL8guHff4m"
      },
      "source": [
        "# max([len(item.split()) for item in processed_text_tweet_train])"
      ],
      "execution_count": null,
      "outputs": []
    },
    {
      "cell_type": "code",
      "metadata": {
        "id": "rkVmdV5_gUUR"
      },
      "source": [
        "# #declaring paremeters\n",
        "# vocab_size=10000\n",
        "# embedding_dim=16\n",
        "# max_length=min( max([len(item.split()) for item in processed_text_tweet_train]), 1000)\n",
        "# trunc_type='post'\n",
        "# pad_type='post'\n",
        "# oov_tok='<OOV>'\n",
        "\n",
        "# #tokenizing train_Sentences\n",
        "# tokenizer=Tokenizer(num_words=vocab_size, oov_token=oov_tok)\n",
        "# tokenizer.fit_on_texts(processed_text_tweet_train)\n",
        "# word2idx=tokenizer.word_index\n",
        "# sequences=tokenizer.texts_to_sequences(processed_text_tweet_train)\n",
        "# padded=pad_sequences(sequences,maxlen=max_length,padding=pad_type,truncating=trunc_type)\n",
        "\n",
        "# #tokinization of test_Sentences\n",
        "# test_sequences = tokenizer.texts_to_sequences(processed_text_tweet_test)\n",
        "# test_padded=pad_sequences(test_sequences,maxlen=max_length,padding=pad_type,truncating=trunc_type)"
      ],
      "execution_count": null,
      "outputs": []
    },
    {
      "cell_type": "code",
      "metadata": {
        "id": "0nJ5ZUputtq6"
      },
      "source": [
        "# target = np.array(train_data['target'].values)"
      ],
      "execution_count": null,
      "outputs": []
    },
    {
      "cell_type": "code",
      "metadata": {
        "id": "hcDMV8smt4PZ"
      },
      "source": [
        "# #creating the model\n",
        "# model = Sequential()"
      ],
      "execution_count": null,
      "outputs": []
    },
    {
      "cell_type": "code",
      "metadata": {
        "id": "kef2Ad5tvn6n"
      },
      "source": [
        "# model.add(Embedding(vocab_size, embedding_dim, input_length=max_length))\n",
        "# model.add(Flatten())\n",
        "# #input layer\n",
        "# model.add(Dense(10, activation='relu'))\n",
        "# #output layer\n",
        "# model.add(Dense(1, activation='sigmoid'))\n",
        "# model.compile(loss='binary_crossentropy', optimizer='adam', metrics=['accuracy'])\n",
        "# model.summary()"
      ],
      "execution_count": null,
      "outputs": []
    },
    {
      "cell_type": "code",
      "metadata": {
        "id": "eFqMKAgxyAlf"
      },
      "source": [
        "# num_epochs = 20\n",
        "# model.fit(padded, target, epochs=num_epochs)"
      ],
      "execution_count": null,
      "outputs": []
    },
    {
      "cell_type": "code",
      "metadata": {
        "id": "4duYGNL5toFc"
      },
      "source": [
        "# score=model.predict(padded)\n",
        "# pred=(score>0.5).astype('int').reshape(target.shape)\n",
        "# print(pred, target)\n",
        "# print(sum(pred==target)/len(target))"
      ],
      "execution_count": null,
      "outputs": []
    },
    {
      "cell_type": "code",
      "metadata": {
        "id": "Lqxw-xijzDQ8"
      },
      "source": [
        "# score = model.predict(test_padded)\n",
        "# score"
      ],
      "execution_count": null,
      "outputs": []
    },
    {
      "cell_type": "code",
      "metadata": {
        "id": "w0cKQUAFzrMk"
      },
      "source": [
        "# submission = pd.read_csv('drive/My Drive/NLP_With_Disaster_Tweets/nlp-getting-started/sample_submission.csv')\n",
        "# submission['target'] = (score>0.7).astype('int')\n",
        "# submission.to_csv('submission.csv', index=False)"
      ],
      "execution_count": null,
      "outputs": []
    },
    {
      "cell_type": "markdown",
      "metadata": {
        "id": "bkAxIWzkfjM-"
      },
      "source": [
        "# Applying Machine Learning\n"
      ]
    },
    {
      "cell_type": "code",
      "metadata": {
        "id": "-IiXcjo2yo0f"
      },
      "source": [
        "X_train, X_test, y_train, y_test = train_test_split(processed_text_tweet_train, target, test_size=0.3, random_state=0) # Sequence for splitting"
      ],
      "execution_count": null,
      "outputs": []
    },
    {
      "cell_type": "code",
      "metadata": {
        "id": "zGyxeczr1Iun",
        "colab": {
          "base_uri": "https://localhost:8080/",
          "height": 84
        },
        "outputId": "9a306a31-5c21-454d-ad4a-a40337a7ebb4"
      },
      "source": [
        "print(len(X_train))\n",
        "print(len(X_test))\n",
        "print(len(y_train))\n",
        "print(len(y_test))"
      ],
      "execution_count": null,
      "outputs": [
        {
          "output_type": "stream",
          "text": [
            "5329\n",
            "2284\n",
            "5329\n",
            "2284\n"
          ],
          "name": "stdout"
        }
      ]
    },
    {
      "cell_type": "code",
      "metadata": {
        "id": "3JO_x8MlfS5I"
      },
      "source": [
        "count_vec = CountVectorizer(analyzer = 'word', max_features = 5000, ngram_range=(1,3))\n",
        "X_train_features = count_vec.fit_transform(X_train, y_train)\n",
        "#creating matrix form\n",
        "X_train_features = X_train_features.todense()\n",
        "X_test_features  = count_vec.transform(X_test)\n",
        "X_test_features  = X_test_features.todense()"
      ],
      "execution_count": null,
      "outputs": []
    },
    {
      "cell_type": "code",
      "metadata": {
        "id": "kwB6NTzeSjLf"
      },
      "source": [
        "t_vec = TfidfVectorizer(analyzer='word', max_features=5000, ngram_range=(1, 3))"
      ],
      "execution_count": null,
      "outputs": []
    },
    {
      "cell_type": "code",
      "metadata": {
        "id": "rILb4vOHWmXY"
      },
      "source": [
        "X_train_features = t_vec.fit_transform(X_train, y_train)\n",
        "X_train_features = X_train_features.todense()\n",
        "X_test_features  = t_vec.transform(X_test)\n",
        "X_test_features  = X_test_features.todense()"
      ],
      "execution_count": null,
      "outputs": []
    },
    {
      "cell_type": "code",
      "metadata": {
        "id": "wLZQjk-WX8-D",
        "colab": {
          "base_uri": "https://localhost:8080/",
          "height": 134
        },
        "outputId": "e146ad65-f5ff-4e94-bce6-cca394fb3746"
      },
      "source": [
        "X_train_features"
      ],
      "execution_count": null,
      "outputs": [
        {
          "output_type": "execute_result",
          "data": {
            "text/plain": [
              "matrix([[0., 0., 0., ..., 0., 0., 0.],\n",
              "        [0., 0., 0., ..., 0., 0., 0.],\n",
              "        [0., 0., 0., ..., 0., 0., 0.],\n",
              "        ...,\n",
              "        [0., 0., 0., ..., 0., 0., 0.],\n",
              "        [0., 0., 0., ..., 0., 0., 0.],\n",
              "        [0., 0., 0., ..., 0., 0., 0.]])"
            ]
          },
          "metadata": {
            "tags": []
          },
          "execution_count": 193
        }
      ]
    },
    {
      "cell_type": "code",
      "metadata": {
        "id": "ZgDwx2jGnQac"
      },
      "source": [
        "# pca = PCA(n_components = 50)"
      ],
      "execution_count": null,
      "outputs": []
    },
    {
      "cell_type": "code",
      "metadata": {
        "id": "WSqTPNQ6ndoP"
      },
      "source": [
        "# X_train_features = pca.fit_transform(X_train_features)\n",
        "# X_test_features  = pca.transform(X_test_features)"
      ],
      "execution_count": null,
      "outputs": []
    },
    {
      "cell_type": "code",
      "metadata": {
        "id": "-DY1fLeNSstm",
        "colab": {
          "base_uri": "https://localhost:8080/",
          "height": 134
        },
        "outputId": "b29ef773-e16c-4cc8-9a70-73be6700adfe"
      },
      "source": [
        "X_train_features"
      ],
      "execution_count": null,
      "outputs": [
        {
          "output_type": "execute_result",
          "data": {
            "text/plain": [
              "matrix([[0, 0, 0, ..., 0, 0, 0],\n",
              "        [0, 0, 0, ..., 0, 0, 0],\n",
              "        [0, 0, 0, ..., 0, 0, 0],\n",
              "        ...,\n",
              "        [0, 0, 0, ..., 0, 0, 0],\n",
              "        [0, 0, 0, ..., 0, 0, 0],\n",
              "        [0, 0, 0, ..., 0, 0, 0]])"
            ]
          },
          "metadata": {
            "tags": []
          },
          "execution_count": 154
        }
      ]
    },
    {
      "cell_type": "code",
      "metadata": {
        "id": "J3BBwULD245N"
      },
      "source": [
        "min_max_scaler=preprocessing.MinMaxScaler()\n",
        "min_max_scaler_train =min_max_scaler.fit_transform(X_train_features)"
      ],
      "execution_count": null,
      "outputs": []
    },
    {
      "cell_type": "code",
      "metadata": {
        "id": "e-j3Xs1CmaBe"
      },
      "source": [
        "min_max_scaler2 =preprocessing.MinMaxScaler()\n",
        "min_max_scaler_test =min_max_scaler2.fit_transform(X_test_features)"
      ],
      "execution_count": null,
      "outputs": []
    },
    {
      "cell_type": "code",
      "metadata": {
        "id": "JRgV2tqUHFT4"
      },
      "source": [
        "# smote = SMOTE(random_state=50)"
      ],
      "execution_count": null,
      "outputs": []
    },
    {
      "cell_type": "code",
      "metadata": {
        "id": "8l2wZ9XNHMVe"
      },
      "source": [
        "# X_res, y_res = smote.fit_sample(min_max_scaler_train, y_train)"
      ],
      "execution_count": null,
      "outputs": []
    },
    {
      "cell_type": "code",
      "metadata": {
        "id": "mAkMUwy41F3s",
        "colab": {
          "base_uri": "https://localhost:8080/",
          "height": 84
        },
        "outputId": "29306505-0886-4d8d-e6d3-b39a6279b809"
      },
      "source": [
        "svc = SVC(C=100, degree = 2, kernel = 'linear')\n",
        "svc.fit(min_max_scaler_train, y_train)"
      ],
      "execution_count": null,
      "outputs": [
        {
          "output_type": "execute_result",
          "data": {
            "text/plain": [
              "SVC(C=100, break_ties=False, cache_size=200, class_weight=None, coef0=0.0,\n",
              "    decision_function_shape='ovr', degree=2, gamma='scale', kernel='linear',\n",
              "    max_iter=-1, probability=False, random_state=None, shrinking=True,\n",
              "    tol=0.001, verbose=False)"
            ]
          },
          "metadata": {
            "tags": []
          },
          "execution_count": 196
        }
      ]
    },
    {
      "cell_type": "code",
      "metadata": {
        "id": "f5AfDScl5B46",
        "colab": {
          "base_uri": "https://localhost:8080/",
          "height": 34
        },
        "outputId": "0c8066e6-99fb-486e-b800-98b06c3f1af7"
      },
      "source": [
        "svc.score(min_max_scaler_train, y_train)"
      ],
      "execution_count": null,
      "outputs": [
        {
          "output_type": "execute_result",
          "data": {
            "text/plain": [
              "0.9819853631075248"
            ]
          },
          "metadata": {
            "tags": []
          },
          "execution_count": 197
        }
      ]
    },
    {
      "cell_type": "code",
      "metadata": {
        "id": "cNvxu9dHnY37"
      },
      "source": [
        "pred = svc.predict(min_max_scaler_test)"
      ],
      "execution_count": null,
      "outputs": []
    },
    {
      "cell_type": "code",
      "metadata": {
        "id": "Yrn6aFU-nh-f",
        "colab": {
          "base_uri": "https://localhost:8080/",
          "height": 34
        },
        "outputId": "5911b5af-b8ab-4abf-e559-45d84013a9f1"
      },
      "source": [
        "svc.score(min_max_scaler_test, pred)"
      ],
      "execution_count": null,
      "outputs": [
        {
          "output_type": "execute_result",
          "data": {
            "text/plain": [
              "1.0"
            ]
          },
          "metadata": {
            "tags": []
          },
          "execution_count": 162
        }
      ]
    },
    {
      "cell_type": "code",
      "metadata": {
        "id": "Ld-G9s3cn6yg",
        "colab": {
          "base_uri": "https://localhost:8080/",
          "height": 67
        },
        "outputId": "80af4165-a9f4-492b-f57d-6235d7ec6c1b"
      },
      "source": [
        "pd.Series(pred).value_counts()"
      ],
      "execution_count": null,
      "outputs": [
        {
          "output_type": "execute_result",
          "data": {
            "text/plain": [
              "0    1250\n",
              "1    1034\n",
              "dtype: int64"
            ]
          },
          "metadata": {
            "tags": []
          },
          "execution_count": 163
        }
      ]
    },
    {
      "cell_type": "code",
      "metadata": {
        "id": "ACrjoC5oql_0",
        "colab": {
          "base_uri": "https://localhost:8080/",
          "height": 67
        },
        "outputId": "a09c3c66-1b39-409a-a8db-7a59a999565f"
      },
      "source": [
        "pd.Series(y_test).value_counts()"
      ],
      "execution_count": null,
      "outputs": [
        {
          "output_type": "execute_result",
          "data": {
            "text/plain": [
              "0    1338\n",
              "1     946\n",
              "dtype: int64"
            ]
          },
          "metadata": {
            "tags": []
          },
          "execution_count": 164
        }
      ]
    },
    {
      "cell_type": "code",
      "metadata": {
        "id": "z5u9o3FqrtNg",
        "colab": {
          "base_uri": "https://localhost:8080/",
          "height": 50
        },
        "outputId": "d9e8cd81-d403-40a7-c33a-203356e2cbe4"
      },
      "source": [
        "confusion_matrix(y_test , pred)"
      ],
      "execution_count": null,
      "outputs": [
        {
          "output_type": "execute_result",
          "data": {
            "text/plain": [
              "array([[983, 355],\n",
              "       [293, 653]])"
            ]
          },
          "metadata": {
            "tags": []
          },
          "execution_count": 199
        }
      ]
    },
    {
      "cell_type": "code",
      "metadata": {
        "id": "fsXu0pSb5K9b",
        "colab": {
          "base_uri": "https://localhost:8080/",
          "height": 279
        },
        "outputId": "d53153f5-e5df-464b-d017-b5fda871228f"
      },
      "source": [
        "sns.heatmap(pd.DataFrame(confusion_matrix(y_test , pred)), annot = True, cmap = 'Blues', fmt = 'd')\n",
        "plt.xlabel('Predicted')\n",
        "plt.ylabel('Expected')\n",
        "plt.show()"
      ],
      "execution_count": null,
      "outputs": [
        {
          "output_type": "display_data",
          "data": {
            "image/png": "[encoded data removed]",
            "text/plain": [
              "<Figure size 432x288 with 2 Axes>"
            ]
          },
          "metadata": {
            "tags": []
          }
        }
      ]
    },
    {
      "cell_type": "code",
      "metadata": {
        "id": "nCLx1Md0NOdQ"
      },
      "source": [
        "#Creating Models\n",
        "rfc = RandomForestClassifier(n_estimators=200, random_state=13)\n",
        "gbc = GradientBoostingClassifier(n_estimators=200, learning_rate=0.1, random_state=13)\n",
        "ada = AdaBoostClassifier(base_estimator=rfc, n_estimators=2, learning_rate=0.1, random_state=13)"
      ],
      "execution_count": null,
      "outputs": []
    },
    {
      "cell_type": "code",
      "metadata": {
        "id": "ilGwKnqza6wI",
        "colab": {
          "base_uri": "https://localhost:8080/",
          "height": 625
        },
        "outputId": "4c1edc72-d723-4527-f47a-876af8fb5c3a"
      },
      "source": [
        "vcf = VotingClassifier(estimators=[('rfc', rfc), ('gbc', gbc), ('ada', ada)], voting='soft')\n",
        "vcf.fit(min_max_scaler_train, y_train)"
      ],
      "execution_count": null,
      "outputs": [
        {
          "output_type": "execute_result",
          "data": {
            "text/plain": [
              "VotingClassifier(estimators=[('rfc',\n",
              "                              RandomForestClassifier(bootstrap=True,\n",
              "                                                     ccp_alpha=0.0,\n",
              "                                                     class_weight=None,\n",
              "                                                     criterion='gini',\n",
              "                                                     max_depth=None,\n",
              "                                                     max_features='auto',\n",
              "                                                     max_leaf_nodes=None,\n",
              "                                                     max_samples=None,\n",
              "                                                     min_impurity_decrease=0.0,\n",
              "                                                     min_impurity_split=None,\n",
              "                                                     min_samples_leaf=1,\n",
              "                                                     min_samples_split=2,\n",
              "                                                     min_weight_fraction_leaf=0.0,\n",
              "                                                     n_estimators=200,\n",
              "                                                     n_jobs=None,\n",
              "                                                     oob_scor...\n",
              "                                                                                       max_leaf_nodes=None,\n",
              "                                                                                       max_samples=None,\n",
              "                                                                                       min_impurity_decrease=0.0,\n",
              "                                                                                       min_impurity_split=None,\n",
              "                                                                                       min_samples_leaf=1,\n",
              "                                                                                       min_samples_split=2,\n",
              "                                                                                       min_weight_fraction_leaf=0.0,\n",
              "                                                                                       n_estimators=200,\n",
              "                                                                                       n_jobs=None,\n",
              "                                                                                       oob_score=False,\n",
              "                                                                                       random_state=13,\n",
              "                                                                                       verbose=0,\n",
              "                                                                                       warm_start=False),\n",
              "                                                 learning_rate=0.1,\n",
              "                                                 n_estimators=2,\n",
              "                                                 random_state=13))],\n",
              "                 flatten_transform=True, n_jobs=None, voting='soft',\n",
              "                 weights=None)"
            ]
          },
          "metadata": {
            "tags": []
          },
          "execution_count": 202
        }
      ]
    },
    {
      "cell_type": "code",
      "metadata": {
        "id": "pAPcPyk1q_Sv"
      },
      "source": [
        "preds = vcf.predict(min_max_scaler_test)"
      ],
      "execution_count": null,
      "outputs": []
    },
    {
      "cell_type": "code",
      "metadata": {
        "id": "ZQ84aSokduQH",
        "colab": {
          "base_uri": "https://localhost:8080/",
          "height": 34
        },
        "outputId": "ef685e29-944b-4348-dfb9-0daaea804cb6"
      },
      "source": [
        "vcf.score(min_max_scaler_test, preds)"
      ],
      "execution_count": null,
      "outputs": [
        {
          "output_type": "execute_result",
          "data": {
            "text/plain": [
              "1.0"
            ]
          },
          "metadata": {
            "tags": []
          },
          "execution_count": 170
        }
      ]
    },
    {
      "cell_type": "code",
      "metadata": {
        "id": "8qXuO6Jfy-nN",
        "colab": {
          "base_uri": "https://localhost:8080/",
          "height": 279
        },
        "outputId": "7dccc1a2-614c-44b3-9dd8-0e638f0fb61d"
      },
      "source": [
        "sns.heatmap(pd.DataFrame(confusion_matrix(y_test , preds)), annot = True, cmap = 'Blues', fmt = 'd')\n",
        "plt.xlabel('Predicted')\n",
        "plt.ylabel('Expected')\n",
        "plt.show()"
      ],
      "execution_count": null,
      "outputs": [
        {
          "output_type": "display_data",
          "data": {
            "image/png": "[encoded data removed]",
            "text/plain": [
              "<Figure size 432x288 with 2 Axes>"
            ]
          },
          "metadata": {
            "tags": []
          }
        }
      ]
    },
    {
      "cell_type": "code",
      "metadata": {
        "id": "VsJRv-gzlv-n"
      },
      "source": [
        "# count_vec = CountVectorizer(analyzer = 'word', max_features = 5000, ngram_range=(1,3))\n",
        "# X_train_features = count_vec.fit_transform(processed_text_tweet_train, target)\n",
        "# #creating matrix form\n",
        "# X_train_features = X_train_features.todense()\n",
        "# X_test_features = count_vec.transform(processed_text_tweet_test)\n",
        "# X_test_features = X_test_features.todense()"
      ],
      "execution_count": null,
      "outputs": []
    },
    {
      "cell_type": "code",
      "metadata": {
        "id": "T5WxGbDAov4w"
      },
      "source": [
        "# X_train_features = pca.fit_transform(X_train_features)\n",
        "# X_test_features  = pca.transform(X_test_features)"
      ],
      "execution_count": null,
      "outputs": []
    },
    {
      "cell_type": "code",
      "metadata": {
        "id": "OKfrLWX0m3T5"
      },
      "source": [
        "# min_max_scaler=preprocessing.MinMaxScaler()\n",
        "# min_max_scaler_train =min_max_scaler.fit_transform(X_train_features)"
      ],
      "execution_count": null,
      "outputs": []
    },
    {
      "cell_type": "code",
      "metadata": {
        "id": "3kIawXChnJg4"
      },
      "source": [
        "# min_max_scaler2 =preprocessing.MinMaxScaler()\n",
        "# min_max_scaler_test =min_max_scaler2.fit_transform(X_test_features)"
      ],
      "execution_count": null,
      "outputs": []
    },
    {
      "cell_type": "code",
      "metadata": {
        "id": "jh6bixY5o8It"
      },
      "source": [
        "# svc = SVC(C=100, degree = 2, kernel = 'linear')\n",
        "# svc.fit(min_max_scaler_train, target)"
      ],
      "execution_count": null,
      "outputs": []
    },
    {
      "cell_type": "code",
      "metadata": {
        "id": "QjTO7kPbpMB8"
      },
      "source": [
        "# svc.score(min_max_scaler_train, target)"
      ],
      "execution_count": null,
      "outputs": []
    },
    {
      "cell_type": "code",
      "metadata": {
        "id": "tjJpIBxdpUsm"
      },
      "source": [
        "# preds = svc.predict(min_max_scaler_test)"
      ],
      "execution_count": null,
      "outputs": []
    },
    {
      "cell_type": "code",
      "metadata": {
        "id": "AEfqn8EOpbY1"
      },
      "source": [
        "# svc.score(min_max_scaler_test, preds)"
      ],
      "execution_count": null,
      "outputs": []
    },
    {
      "cell_type": "code",
      "metadata": {
        "id": "yH0DlkXLncRv"
      },
      "source": [
        "# vcf = VotingClassifier(estimators=[('rfc', rfc), ('gbc', gbc), ('ada', ada)], voting='soft')\n",
        "# vcf.fit(min_max_scaler_train, target)"
      ],
      "execution_count": null,
      "outputs": []
    },
    {
      "cell_type": "code",
      "metadata": {
        "id": "xrxp8ek9rSHz"
      },
      "source": [
        "# preds = vcf.predict(min_max_scaler_test)"
      ],
      "execution_count": null,
      "outputs": []
    },
    {
      "cell_type": "code",
      "metadata": {
        "id": "BLJtT86OuaaU"
      },
      "source": [
        "# vcf.score(min_max_scaler_test, preds)"
      ],
      "execution_count": null,
      "outputs": []
    },
    {
      "cell_type": "code",
      "metadata": {
        "id": "D_0TaJRlkdXs"
      },
      "source": [
        "#  Submission = pd.DataFrame(test_data.id)"
      ],
      "execution_count": null,
      "outputs": []
    },
    {
      "cell_type": "code",
      "metadata": {
        "id": "y8-nEbvsk2z6"
      },
      "source": [
        "#  Submission['target'] = preds"
      ],
      "execution_count": null,
      "outputs": []
    },
    {
      "cell_type": "code",
      "metadata": {
        "id": "Hm9l2jCtvNRS"
      },
      "source": [
        "#  Submission.to_csv('Submission.csv', index=False)"
      ],
      "execution_count": null,
      "outputs": []
    },
    {
      "cell_type": "code",
      "metadata": {
        "id": "UtWRkzRAwmQA"
      },
      "source": [
        "# MAX_FEATURES = 12000\n",
        "# tokenizer = Tokenizer(num_words=MAX_FEATURES)\n",
        "# tokenizer.fit_on_texts(X_train)\n",
        "# train_texts = tokenizer.texts_to_sequences(X_train)\n",
        "# val_texts = tokenizer.texts_to_sequences(X_test)\n",
        "# test_texts = tokenizer.texts_to_sequences(processed_text_tweet_test)"
      ],
      "execution_count": null,
      "outputs": []
    },
    {
      "cell_type": "code",
      "metadata": {
        "id": "_3J5TzCsxc_k"
      },
      "source": [
        "# MAX_LENGTH = max(len(train_ex) for train_ex in train_texts)\n",
        "# train_texts = pad_sequences(train_texts, maxlen=MAX_LENGTH)\n",
        "# val_texts = pad_sequences(val_texts, maxlen=MAX_LENGTH)\n",
        "# test_texts = pad_sequences(test_texts, maxlen=MAX_LENGTH)"
      ],
      "execution_count": null,
      "outputs": []
    },
    {
      "cell_type": "code",
      "metadata": {
        "id": "GZ2qd3ok44GD"
      },
      "source": [
        "# def build_rnn_model():\n",
        "#     sequences = layers.Input(shape=(MAX_LENGTH,))\n",
        "#     embedded = layers.Embedding(MAX_FEATURES, 64)(sequences)\n",
        "#     x = layers.CuDNNGRU(128, return_sequences=True)(embedded)\n",
        "#     x = layers.CuDNNGRU(128)(x)\n",
        "#     x = layers.Dense(32, activation='relu')(x)\n",
        "#     x = layers.Dense(100, activation='relu')(x)\n",
        "#     predictions = layers.Dense(1, activation='sigmoid')(x)\n",
        "#     model = models.Model(inputs=sequences, outputs=predictions)\n",
        "#     model.compile(\n",
        "#         optimizer='rmsprop',\n",
        "#         loss='binary_crossentropy',\n",
        "#         metrics=['binary_accuracy']\n",
        "#     )\n",
        "#     return model\n",
        "    "
      ],
      "execution_count": null,
      "outputs": []
    },
    {
      "cell_type": "code",
      "metadata": {
        "id": "DlMznHxR83B0"
      },
      "source": [
        "# rnn_model = build_rnn_model()"
      ],
      "execution_count": null,
      "outputs": []
    },
    {
      "cell_type": "code",
      "metadata": {
        "id": "GOSFygiQ84uG"
      },
      "source": [
        "# rnn_model.fit(\n",
        "#     train_texts, \n",
        "#     y_train, \n",
        "#     batch_size=128,\n",
        "#     epochs=50,\n",
        "#     validation_data=(val_texts, y_test), )"
      ],
      "execution_count": null,
      "outputs": []
    },
    {
      "cell_type": "code",
      "metadata": {
        "id": "fQXNm9Kr87WZ"
      },
      "source": [
        ""
      ],
      "execution_count": null,
      "outputs": []
    },
    {
      "cell_type": "code",
      "metadata": {
        "id": "xTL4bDdzAgl1"
      },
      "source": [
        ""
      ],
      "execution_count": null,
      "outputs": []
    }
  ]
}